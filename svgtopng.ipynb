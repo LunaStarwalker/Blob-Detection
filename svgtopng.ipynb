{
  "nbformat": 4,
  "nbformat_minor": 0,
  "metadata": {
    "colab": {
      "provenance": [],
      "authorship_tag": "ABX9TyNi6aXFBDquXF/UJ0MJtIiR",
      "include_colab_link": true
    },
    "kernelspec": {
      "name": "python3",
      "display_name": "Python 3"
    },
    "language_info": {
      "name": "python"
    }
  },
  "cells": [
    {
      "cell_type": "markdown",
      "metadata": {
        "id": "view-in-github",
        "colab_type": "text"
      },
      "source": [
        "<a href=\"https://colab.research.google.com/github/LunaStarwalker/Blob-Detection/blob/master/svgtopng.ipynb\" target=\"_parent\"><img src=\"https://colab.research.google.com/assets/colab-badge.svg\" alt=\"Open In Colab\"/></a>"
      ]
    },
    {
      "cell_type": "code",
      "execution_count": 9,
      "metadata": {
        "colab": {
          "base_uri": "https://localhost:8080/"
        },
        "id": "zi92woHqfXnc",
        "outputId": "80a01eca-9e7a-4aa2-904d-eaf351038010"
      },
      "outputs": [
        {
          "output_type": "stream",
          "name": "stdout",
          "text": [
            "Looking in indexes: https://pypi.org/simple, https://us-python.pkg.dev/colab-wheels/public/simple/\n",
            "Requirement already satisfied: cairosvg in /usr/local/lib/python3.9/dist-packages (2.7.0)\n",
            "Requirement already satisfied: pillow in /usr/local/lib/python3.9/dist-packages (from cairosvg) (8.4.0)\n",
            "Requirement already satisfied: defusedxml in /usr/local/lib/python3.9/dist-packages (from cairosvg) (0.7.1)\n",
            "Requirement already satisfied: tinycss2 in /usr/local/lib/python3.9/dist-packages (from cairosvg) (1.2.1)\n",
            "Requirement already satisfied: cairocffi in /usr/local/lib/python3.9/dist-packages (from cairosvg) (1.5.0)\n",
            "Requirement already satisfied: cssselect2 in /usr/local/lib/python3.9/dist-packages (from cairosvg) (0.7.0)\n",
            "Requirement already satisfied: cffi>=1.1.0 in /usr/local/lib/python3.9/dist-packages (from cairocffi->cairosvg) (1.15.1)\n",
            "Requirement already satisfied: webencodings in /usr/local/lib/python3.9/dist-packages (from cssselect2->cairosvg) (0.5.1)\n",
            "Requirement already satisfied: pycparser in /usr/local/lib/python3.9/dist-packages (from cffi>=1.1.0->cairocffi->cairosvg) (2.21)\n"
          ]
        }
      ],
      "source": [
        "!pip install cairosvg"
      ]
    },
    {
      "cell_type": "code",
      "source": [
        "from cairosvg import svg2png\n",
        "\n",
        "def transform(overlaypath, savepath):\n",
        "  svg2png(url=overlaypath, write_to=savepath)\n"
      ],
      "metadata": {
        "id": "6riHeqdvfzsc"
      },
      "execution_count": 11,
      "outputs": []
    }
  ]
}